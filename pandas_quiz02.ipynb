{
 "cells": [
  {
   "cell_type": "markdown",
   "id": "c5c7d8a5",
   "metadata": {},
   "source": [
    "# pandas Quiz-02"
   ]
  },
  {
   "cell_type": "markdown",
   "id": "a0fd2763",
   "metadata": {},
   "source": [
    "## 구분자로 구분된 문자열 컬럼 \n",
    "\n",
    "(2021.8.17)\n",
    "\n",
    "- 몇가지 배울 내용\n",
    "\n",
    " - explode()\n",
    " - map()\n",
    " - lamda 함수"
   ]
  },
  {
   "cell_type": "markdown",
   "id": "40c4ac2c",
   "metadata": {},
   "source": [
    "**(Question-1)** 아래 author 컬럼  저자정보에서, Org1에서 나온 문서 개수를 구하시오. 눈으로 대충 세워서.\n",
    "\n",
    "> (1) 2개 (2) 4개"
   ]
  },
  {
   "cell_type": "code",
   "execution_count": 117,
   "id": "a81d6352",
   "metadata": {
    "scrolled": true
   },
   "outputs": [
    {
     "data": {
      "text/html": [
       "<div>\n",
       "<style scoped>\n",
       "    .dataframe tbody tr th:only-of-type {\n",
       "        vertical-align: middle;\n",
       "    }\n",
       "\n",
       "    .dataframe tbody tr th {\n",
       "        vertical-align: top;\n",
       "    }\n",
       "\n",
       "    .dataframe thead th {\n",
       "        text-align: right;\n",
       "    }\n",
       "</style>\n",
       "<table border=\"1\" class=\"dataframe\">\n",
       "  <thead>\n",
       "    <tr style=\"text-align: right;\">\n",
       "      <th></th>\n",
       "      <th>id</th>\n",
       "      <th>author_info</th>\n",
       "    </tr>\n",
       "  </thead>\n",
       "  <tbody>\n",
       "    <tr>\n",
       "      <th>0</th>\n",
       "      <td>1</td>\n",
       "      <td>Kim_Org1;Lee_Org1;Noh_Org1</td>\n",
       "    </tr>\n",
       "    <tr>\n",
       "      <th>1</th>\n",
       "      <td>2</td>\n",
       "      <td>Kim_Org1;Jang_Org2</td>\n",
       "    </tr>\n",
       "    <tr>\n",
       "      <th>2</th>\n",
       "      <td>3</td>\n",
       "      <td>Lee_Org3</td>\n",
       "    </tr>\n",
       "  </tbody>\n",
       "</table>\n",
       "</div>"
      ],
      "text/plain": [
       "   id                 author_info\n",
       "0   1  Kim_Org1;Lee_Org1;Noh_Org1\n",
       "1   2          Kim_Org1;Jang_Org2\n",
       "2   3                    Lee_Org3"
      ]
     },
     "execution_count": 117,
     "metadata": {},
     "output_type": "execute_result"
    }
   ],
   "source": [
    "import pandas as pd\n",
    "from pandas import DataFrame, Series\n",
    "\n",
    "df = DataFrame( {'id':[1,2,3], 'author_info':['Kim_Org1;Lee_Org1;Noh_Org1', 'Kim_Org1;Jang_Org2', 'Lee_Org3']})\n",
    "df"
   ]
  },
  {
   "cell_type": "code",
   "execution_count": null,
   "id": "e4bbe8c2",
   "metadata": {},
   "outputs": [],
   "source": []
  },
  {
   "cell_type": "markdown",
   "id": "c7deae03",
   "metadata": {},
   "source": [
    "### map()"
   ]
  },
  {
   "cell_type": "code",
   "execution_count": 132,
   "id": "66e7b8fc",
   "metadata": {
    "scrolled": false
   },
   "outputs": [
    {
     "data": {
      "text/html": [
       "<div>\n",
       "<style scoped>\n",
       "    .dataframe tbody tr th:only-of-type {\n",
       "        vertical-align: middle;\n",
       "    }\n",
       "\n",
       "    .dataframe tbody tr th {\n",
       "        vertical-align: top;\n",
       "    }\n",
       "\n",
       "    .dataframe thead th {\n",
       "        text-align: right;\n",
       "    }\n",
       "</style>\n",
       "<table border=\"1\" class=\"dataframe\">\n",
       "  <thead>\n",
       "    <tr style=\"text-align: right;\">\n",
       "      <th></th>\n",
       "      <th>id</th>\n",
       "      <th>author_info</th>\n",
       "      <th>author_info_list</th>\n",
       "    </tr>\n",
       "  </thead>\n",
       "  <tbody>\n",
       "    <tr>\n",
       "      <th>0</th>\n",
       "      <td>1</td>\n",
       "      <td>Kim_Org1;Lee_Org1;Noh_Org1</td>\n",
       "      <td>[Kim_Org1, Lee_Org1, Noh_Org1]</td>\n",
       "    </tr>\n",
       "    <tr>\n",
       "      <th>1</th>\n",
       "      <td>2</td>\n",
       "      <td>Kim_Org1;Jang_Org2</td>\n",
       "      <td>[Kim_Org1, Jang_Org2]</td>\n",
       "    </tr>\n",
       "    <tr>\n",
       "      <th>2</th>\n",
       "      <td>3</td>\n",
       "      <td>Lee_Org3</td>\n",
       "      <td>[Lee_Org3]</td>\n",
       "    </tr>\n",
       "  </tbody>\n",
       "</table>\n",
       "</div>"
      ],
      "text/plain": [
       "   id                 author_info                author_info_list\n",
       "0   1  Kim_Org1;Lee_Org1;Noh_Org1  [Kim_Org1, Lee_Org1, Noh_Org1]\n",
       "1   2          Kim_Org1;Jang_Org2           [Kim_Org1, Jang_Org2]\n",
       "2   3                    Lee_Org3                      [Lee_Org3]"
      ]
     },
     "execution_count": 132,
     "metadata": {},
     "output_type": "execute_result"
    }
   ],
   "source": [
    "df['author_info_list'] = df['author_info'].map(lambda x : x.split(';'))\n",
    "df"
   ]
  },
  {
   "cell_type": "markdown",
   "id": "efab55f6",
   "metadata": {},
   "source": [
    "### explode()"
   ]
  },
  {
   "cell_type": "code",
   "execution_count": 133,
   "id": "77e69e22",
   "metadata": {
    "scrolled": false
   },
   "outputs": [
    {
     "data": {
      "text/html": [
       "<div>\n",
       "<style scoped>\n",
       "    .dataframe tbody tr th:only-of-type {\n",
       "        vertical-align: middle;\n",
       "    }\n",
       "\n",
       "    .dataframe tbody tr th {\n",
       "        vertical-align: top;\n",
       "    }\n",
       "\n",
       "    .dataframe thead th {\n",
       "        text-align: right;\n",
       "    }\n",
       "</style>\n",
       "<table border=\"1\" class=\"dataframe\">\n",
       "  <thead>\n",
       "    <tr style=\"text-align: right;\">\n",
       "      <th></th>\n",
       "      <th>id</th>\n",
       "      <th>author_info</th>\n",
       "      <th>author_info_list</th>\n",
       "    </tr>\n",
       "  </thead>\n",
       "  <tbody>\n",
       "    <tr>\n",
       "      <th>0</th>\n",
       "      <td>1</td>\n",
       "      <td>Kim_Org1;Lee_Org1;Noh_Org1</td>\n",
       "      <td>Kim_Org1</td>\n",
       "    </tr>\n",
       "    <tr>\n",
       "      <th>0</th>\n",
       "      <td>1</td>\n",
       "      <td>Kim_Org1;Lee_Org1;Noh_Org1</td>\n",
       "      <td>Lee_Org1</td>\n",
       "    </tr>\n",
       "    <tr>\n",
       "      <th>0</th>\n",
       "      <td>1</td>\n",
       "      <td>Kim_Org1;Lee_Org1;Noh_Org1</td>\n",
       "      <td>Noh_Org1</td>\n",
       "    </tr>\n",
       "    <tr>\n",
       "      <th>1</th>\n",
       "      <td>2</td>\n",
       "      <td>Kim_Org1;Jang_Org2</td>\n",
       "      <td>Kim_Org1</td>\n",
       "    </tr>\n",
       "    <tr>\n",
       "      <th>1</th>\n",
       "      <td>2</td>\n",
       "      <td>Kim_Org1;Jang_Org2</td>\n",
       "      <td>Jang_Org2</td>\n",
       "    </tr>\n",
       "    <tr>\n",
       "      <th>2</th>\n",
       "      <td>3</td>\n",
       "      <td>Lee_Org3</td>\n",
       "      <td>Lee_Org3</td>\n",
       "    </tr>\n",
       "  </tbody>\n",
       "</table>\n",
       "</div>"
      ],
      "text/plain": [
       "   id                 author_info author_info_list\n",
       "0   1  Kim_Org1;Lee_Org1;Noh_Org1         Kim_Org1\n",
       "0   1  Kim_Org1;Lee_Org1;Noh_Org1         Lee_Org1\n",
       "0   1  Kim_Org1;Lee_Org1;Noh_Org1         Noh_Org1\n",
       "1   2          Kim_Org1;Jang_Org2         Kim_Org1\n",
       "1   2          Kim_Org1;Jang_Org2        Jang_Org2\n",
       "2   3                    Lee_Org3         Lee_Org3"
      ]
     },
     "execution_count": 133,
     "metadata": {},
     "output_type": "execute_result"
    }
   ],
   "source": [
    "df2=df.explode('author_info_list')\n",
    "df2"
   ]
  },
  {
   "cell_type": "markdown",
   "id": "7e24c155",
   "metadata": {},
   "source": [
    "### str.split()"
   ]
  },
  {
   "cell_type": "code",
   "execution_count": 134,
   "id": "cdefba24",
   "metadata": {
    "scrolled": false
   },
   "outputs": [
    {
     "data": {
      "text/html": [
       "<div>\n",
       "<style scoped>\n",
       "    .dataframe tbody tr th:only-of-type {\n",
       "        vertical-align: middle;\n",
       "    }\n",
       "\n",
       "    .dataframe tbody tr th {\n",
       "        vertical-align: top;\n",
       "    }\n",
       "\n",
       "    .dataframe thead th {\n",
       "        text-align: right;\n",
       "    }\n",
       "</style>\n",
       "<table border=\"1\" class=\"dataframe\">\n",
       "  <thead>\n",
       "    <tr style=\"text-align: right;\">\n",
       "      <th></th>\n",
       "      <th>id</th>\n",
       "      <th>author_info</th>\n",
       "      <th>author_info_list</th>\n",
       "      <th>author</th>\n",
       "      <th>org</th>\n",
       "    </tr>\n",
       "  </thead>\n",
       "  <tbody>\n",
       "    <tr>\n",
       "      <th>0</th>\n",
       "      <td>1</td>\n",
       "      <td>Kim_Org1;Lee_Org1;Noh_Org1</td>\n",
       "      <td>Kim_Org1</td>\n",
       "      <td>Kim</td>\n",
       "      <td>Org1</td>\n",
       "    </tr>\n",
       "    <tr>\n",
       "      <th>0</th>\n",
       "      <td>1</td>\n",
       "      <td>Kim_Org1;Lee_Org1;Noh_Org1</td>\n",
       "      <td>Lee_Org1</td>\n",
       "      <td>Lee</td>\n",
       "      <td>Org1</td>\n",
       "    </tr>\n",
       "    <tr>\n",
       "      <th>0</th>\n",
       "      <td>1</td>\n",
       "      <td>Kim_Org1;Lee_Org1;Noh_Org1</td>\n",
       "      <td>Noh_Org1</td>\n",
       "      <td>Noh</td>\n",
       "      <td>Org1</td>\n",
       "    </tr>\n",
       "    <tr>\n",
       "      <th>1</th>\n",
       "      <td>2</td>\n",
       "      <td>Kim_Org1;Jang_Org2</td>\n",
       "      <td>Kim_Org1</td>\n",
       "      <td>Kim</td>\n",
       "      <td>Org1</td>\n",
       "    </tr>\n",
       "    <tr>\n",
       "      <th>1</th>\n",
       "      <td>2</td>\n",
       "      <td>Kim_Org1;Jang_Org2</td>\n",
       "      <td>Jang_Org2</td>\n",
       "      <td>Jang</td>\n",
       "      <td>Org2</td>\n",
       "    </tr>\n",
       "    <tr>\n",
       "      <th>2</th>\n",
       "      <td>3</td>\n",
       "      <td>Lee_Org3</td>\n",
       "      <td>Lee_Org3</td>\n",
       "      <td>Lee</td>\n",
       "      <td>Org3</td>\n",
       "    </tr>\n",
       "  </tbody>\n",
       "</table>\n",
       "</div>"
      ],
      "text/plain": [
       "   id                 author_info author_info_list author   org\n",
       "0   1  Kim_Org1;Lee_Org1;Noh_Org1         Kim_Org1    Kim  Org1\n",
       "0   1  Kim_Org1;Lee_Org1;Noh_Org1         Lee_Org1    Lee  Org1\n",
       "0   1  Kim_Org1;Lee_Org1;Noh_Org1         Noh_Org1    Noh  Org1\n",
       "1   2          Kim_Org1;Jang_Org2         Kim_Org1    Kim  Org1\n",
       "1   2          Kim_Org1;Jang_Org2        Jang_Org2   Jang  Org2\n",
       "2   3                    Lee_Org3         Lee_Org3    Lee  Org3"
      ]
     },
     "execution_count": 134,
     "metadata": {},
     "output_type": "execute_result"
    }
   ],
   "source": [
    "df2[[\"author\",\"org\"]] = df2[\"author_info_list\"].str.split(pat=\"_\", expand=True)\n",
    "df2"
   ]
  },
  {
   "cell_type": "markdown",
   "id": "c38a24ec",
   "metadata": {},
   "source": [
    "### org 카운팅"
   ]
  },
  {
   "cell_type": "markdown",
   "id": "dfab1be5",
   "metadata": {},
   "source": [
    "#### 총등장횟수"
   ]
  },
  {
   "cell_type": "code",
   "execution_count": 135,
   "id": "0877ebba",
   "metadata": {
    "scrolled": true
   },
   "outputs": [
    {
     "data": {
      "text/plain": [
       "Org1    4\n",
       "Org2    1\n",
       "Org3    1\n",
       "Name: org, dtype: int64"
      ]
     },
     "execution_count": 135,
     "metadata": {},
     "output_type": "execute_result"
    }
   ],
   "source": [
    "df2['org'].value_counts()"
   ]
  },
  {
   "cell_type": "markdown",
   "id": "e9fec07c",
   "metadata": {},
   "source": [
    "#### 유니크 등장횟수"
   ]
  },
  {
   "cell_type": "markdown",
   "id": "600a20af",
   "metadata": {},
   "source": [
    "문서에 한번 이상 출현해도 1번 출현한 것으로 간주함"
   ]
  },
  {
   "cell_type": "code",
   "execution_count": 136,
   "id": "c740e45e",
   "metadata": {},
   "outputs": [
    {
     "data": {
      "text/html": [
       "<div>\n",
       "<style scoped>\n",
       "    .dataframe tbody tr th:only-of-type {\n",
       "        vertical-align: middle;\n",
       "    }\n",
       "\n",
       "    .dataframe tbody tr th {\n",
       "        vertical-align: top;\n",
       "    }\n",
       "\n",
       "    .dataframe thead th {\n",
       "        text-align: right;\n",
       "    }\n",
       "</style>\n",
       "<table border=\"1\" class=\"dataframe\">\n",
       "  <thead>\n",
       "    <tr style=\"text-align: right;\">\n",
       "      <th></th>\n",
       "      <th>org</th>\n",
       "    </tr>\n",
       "    <tr>\n",
       "      <th>id</th>\n",
       "      <th></th>\n",
       "    </tr>\n",
       "  </thead>\n",
       "  <tbody>\n",
       "    <tr>\n",
       "      <th>1</th>\n",
       "      <td>[Org1]</td>\n",
       "    </tr>\n",
       "    <tr>\n",
       "      <th>2</th>\n",
       "      <td>[Org1, Org2]</td>\n",
       "    </tr>\n",
       "    <tr>\n",
       "      <th>3</th>\n",
       "      <td>[Org3]</td>\n",
       "    </tr>\n",
       "  </tbody>\n",
       "</table>\n",
       "</div>"
      ],
      "text/plain": [
       "             org\n",
       "id              \n",
       "1         [Org1]\n",
       "2   [Org1, Org2]\n",
       "3         [Org3]"
      ]
     },
     "execution_count": 136,
     "metadata": {},
     "output_type": "execute_result"
    }
   ],
   "source": [
    "def fun1(x):\n",
    "    #print(x)\n",
    "    return  sorted(set( ';'.join(x).split(sep)))\n",
    "\n",
    "s3=df2.groupby(['id'])['org'].apply(lambda x : fun1(x))\n",
    "\n",
    "df3 = DataFrame(s3)\n",
    "df3"
   ]
  },
  {
   "cell_type": "code",
   "execution_count": 137,
   "id": "35753725",
   "metadata": {},
   "outputs": [
    {
     "data": {
      "text/html": [
       "<div>\n",
       "<style scoped>\n",
       "    .dataframe tbody tr th:only-of-type {\n",
       "        vertical-align: middle;\n",
       "    }\n",
       "\n",
       "    .dataframe tbody tr th {\n",
       "        vertical-align: top;\n",
       "    }\n",
       "\n",
       "    .dataframe thead th {\n",
       "        text-align: right;\n",
       "    }\n",
       "</style>\n",
       "<table border=\"1\" class=\"dataframe\">\n",
       "  <thead>\n",
       "    <tr style=\"text-align: right;\">\n",
       "      <th></th>\n",
       "      <th>org</th>\n",
       "    </tr>\n",
       "    <tr>\n",
       "      <th>id</th>\n",
       "      <th></th>\n",
       "    </tr>\n",
       "  </thead>\n",
       "  <tbody>\n",
       "    <tr>\n",
       "      <th>1</th>\n",
       "      <td>Org1</td>\n",
       "    </tr>\n",
       "    <tr>\n",
       "      <th>2</th>\n",
       "      <td>Org1</td>\n",
       "    </tr>\n",
       "    <tr>\n",
       "      <th>2</th>\n",
       "      <td>Org2</td>\n",
       "    </tr>\n",
       "    <tr>\n",
       "      <th>3</th>\n",
       "      <td>Org3</td>\n",
       "    </tr>\n",
       "  </tbody>\n",
       "</table>\n",
       "</div>"
      ],
      "text/plain": [
       "     org\n",
       "id      \n",
       "1   Org1\n",
       "2   Org1\n",
       "2   Org2\n",
       "3   Org3"
      ]
     },
     "execution_count": 137,
     "metadata": {},
     "output_type": "execute_result"
    }
   ],
   "source": [
    "df4 = df3.explode('org')\n",
    "df4"
   ]
  },
  {
   "cell_type": "code",
   "execution_count": 138,
   "id": "4bb532c4",
   "metadata": {},
   "outputs": [
    {
     "data": {
      "text/plain": [
       "org \n",
       "Org1    2\n",
       "Org2    1\n",
       "Org3    1\n",
       "dtype: int64"
      ]
     },
     "execution_count": 138,
     "metadata": {},
     "output_type": "execute_result"
    }
   ],
   "source": [
    "df4.value_counts()"
   ]
  },
  {
   "cell_type": "markdown",
   "id": "81bbef6e",
   "metadata": {},
   "source": [
    "즉 Org1에서 2개 문서가 생산했다. "
   ]
  },
  {
   "cell_type": "markdown",
   "id": "91ac0282",
   "metadata": {},
   "source": [
    "### 함수 작성"
   ]
  },
  {
   "cell_type": "code",
   "execution_count": 139,
   "id": "929d2763",
   "metadata": {},
   "outputs": [],
   "source": [
    "import numpy as np\n",
    "\n",
    "def value_counts(df, col_index='id', colname='country', *, unique=True, sep=';') -> Series:\n",
    "    \"\"\"\n",
    "    2021.8.17\n",
    "    \n",
    "    parameters\n",
    "    ----------\n",
    "    df : input DataFrame\n",
    "    col_index : 구분자 없는 컬럼\n",
    "    colname : 구분자 있는 컬럼 \n",
    "    \n",
    "    returns\n",
    "    -------\n",
    "    Series\n",
    "    \"\"\"\n",
    "    #df[colname]=df[colname].astype(str)\n",
    "    \n",
    "    def fun1(x, *, sep=';', unique=True):\n",
    "        x2=[]\n",
    "        for each in x:\n",
    "            if pd.isna(each) == True:\n",
    "                pass\n",
    "            elif f\"{each}\".strip() == '':\n",
    "                pass\n",
    "            else:\n",
    "                x2.append(f\"{each}\")\n",
    "        \n",
    "        if unique == True:\n",
    "            return sorted(set( f'{sep}'.join( x2).split(f'{sep}')))\n",
    "        else:\n",
    "            return  f'{sep}'.join(x).split(f'{sep}')\n",
    "\n",
    "    \n",
    "    s1=df.groupby([col_index])[colname].apply(lambda x :  fun1(x, sep=sep, unique=unique))\n",
    "           \n",
    "    df_s1 = DataFrame(s1)\n",
    "    \n",
    "    df_s2 = df_s1.explode(colname)\n",
    "    \n",
    "    df_s3 = df_s2.dropna(subset=[colname])\n",
    "    s3     = df_s3[colname].value_counts()\n",
    "    \n",
    "    return s3"
   ]
  },
  {
   "cell_type": "code",
   "execution_count": 140,
   "id": "14798d64",
   "metadata": {},
   "outputs": [
    {
     "data": {
      "text/plain": [
       "Org1    2\n",
       "Org2    1\n",
       "Org3    1\n",
       "Name: org, dtype: int64"
      ]
     },
     "execution_count": 140,
     "metadata": {},
     "output_type": "execute_result"
    }
   ],
   "source": [
    "value_counts(df2, 'id','org', unique=True)"
   ]
  },
  {
   "cell_type": "code",
   "execution_count": 141,
   "id": "f27c9cbe",
   "metadata": {},
   "outputs": [
    {
     "data": {
      "text/plain": [
       "Org1    4\n",
       "Org2    1\n",
       "Org3    1\n",
       "Name: org, dtype: int64"
      ]
     },
     "execution_count": 141,
     "metadata": {},
     "output_type": "execute_result"
    }
   ],
   "source": [
    "value_counts(df2, 'id','org', unique=False)"
   ]
  },
  {
   "cell_type": "code",
   "execution_count": null,
   "id": "b09fd464",
   "metadata": {},
   "outputs": [],
   "source": []
  },
  {
   "cell_type": "code",
   "execution_count": null,
   "id": "c2b0fec5",
   "metadata": {},
   "outputs": [],
   "source": []
  }
 ],
 "metadata": {
  "kernelspec": {
   "display_name": "Python 3",
   "language": "python",
   "name": "python3"
  },
  "language_info": {
   "codemirror_mode": {
    "name": "ipython",
    "version": 3
   },
   "file_extension": ".py",
   "mimetype": "text/x-python",
   "name": "python",
   "nbconvert_exporter": "python",
   "pygments_lexer": "ipython3",
   "version": "3.9.6"
  },
  "toc": {
   "base_numbering": 1,
   "nav_menu": {},
   "number_sections": true,
   "sideBar": true,
   "skip_h1_title": true,
   "title_cell": "Table of Contents",
   "title_sidebar": "Contents",
   "toc_cell": false,
   "toc_position": {},
   "toc_section_display": true,
   "toc_window_display": true
  }
 },
 "nbformat": 4,
 "nbformat_minor": 5
}
